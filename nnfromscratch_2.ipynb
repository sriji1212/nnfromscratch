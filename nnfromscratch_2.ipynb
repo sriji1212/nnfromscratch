{
  "nbformat": 4,
  "nbformat_minor": 2,
  "metadata": {
    "colab": {
      "name": "nnfromscratch-2.ipynb",
      "provenance": [],
      "authorship_tag": "ABX9TyPNA3CDPZWvvjygt8xuD9lR",
      "include_colab_link": true
    },
    "kernelspec": {
      "name": "python3",
      "display_name": "Python 3"
    },
    "language_info": {
      "name": "python"
    }
  },
  "cells": [
    {
      "cell_type": "markdown",
      "source": [
        "<a href=\"https://colab.research.google.com/github/sriji1212/nnfromscratch/blob/main/nnfromscratch_2.ipynb\" target=\"_parent\"><img src=\"https://colab.research.google.com/assets/colab-badge.svg\" alt=\"Open In Colab\"/></a>"
      ],
      "metadata": {
        "id": "view-in-github",
        "colab_type": "text"
      }
    },
    {
      "cell_type": "code",
      "execution_count": 1,
      "source": [
        "inputs = [1, 2, 3, 2.5]\r\n",
        "weights = [0.2, 0.8, -0.5, 1.0]\r\n",
        "bias = 2\r\n",
        "\r\n",
        "\r\n",
        "\r\n",
        "\r\n",
        "\r\n",
        "output = inputs[0]*weights[0] + inputs[1]*weights[1] + inputs[2]*weights[2] + + inputs[3]*weights[3] + bias\r\n",
        "print(output)"
      ],
      "outputs": [
        {
          "output_type": "stream",
          "name": "stdout",
          "text": [
            "2.3\n"
          ]
        }
      ],
      "metadata": {
        "colab": {
          "base_uri": "https://localhost:8080/"
        },
        "id": "Xm0xWBdYjMNJ",
        "outputId": "a1575ea3-3efb-4061-b524-f88b4d21cfc9"
      }
    }
  ]
}